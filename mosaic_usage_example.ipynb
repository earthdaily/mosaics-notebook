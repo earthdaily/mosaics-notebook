{
 "cells": [
  {
   "cell_type": "markdown",
   "id": "bd91b78e",
   "metadata": {},
   "source": [
    "# GDAL Mosaic Access via Signed URL\n",
    "Bare-bones self-contained example of accessing the EarthDaily mosaics via an S3 signed URL (obtained through the UI)\n",
    "\n",
    "## How to Use\n",
    "1. Update the configuration variables to match your preferred settings \n",
    "2. Select a AOI with the Rectangle tool in the preview map.\n",
    "3. Call GDAL to download the selected region. NOTE: The downloaded file size can get very large very quickly. If downloading is taking too long, try selecting a smaller region or using a coarser resolution\n",
    "4. Explore preview plots of GeoTIFF with unscaled DN values with rasterio and simple NDVI calculation\n",
    "\n",
    "**Use of the EarthDaily mosaics is subject to the license agreement at https://mosaics-preview.earthdaily.com/home**"
   ]
  },
  {
   "cell_type": "markdown",
   "id": "95bfbc96",
   "metadata": {},
   "source": [
    "## Setup"
   ]
  },
  {
   "cell_type": "code",
   "execution_count": 1,
   "id": "14a6659a",
   "metadata": {},
   "outputs": [],
   "source": [
    "import sys\n",
    "import os\n",
    "sys.path.insert(0, os.path.abspath('.'))\n",
    "\n",
    "from datetime import datetime, timedelta\n",
    "from urllib.parse import urlparse, parse_qs\n",
    "\n",
    "import numpy as np\n",
    "import rasterio\n",
    "from osgeo import gdal \n",
    "\n",
    "import plotting_utils"
   ]
  },
  {
   "cell_type": "markdown",
   "id": "67b81f56",
   "metadata": {},
   "source": [
    "## Configuration"
   ]
  },
  {
   "cell_type": "code",
   "execution_count": null,
   "id": "3565ea14",
   "metadata": {},
   "outputs": [],
   "source": [
    "# Login to https://mosaics-preview.earthdaily.com/home/login to obtain the signed URL\n",
    "SIGNED_URL = '<COPY_AND_PASTE_FROM_MOSAICS_UI>'\n",
    "\n",
    "# Path with sufficient space to write the output imagery\n",
    "OUT_PATH = './retrieved_imagery.tif'\n",
    "\n",
    "# Output pixel spacing (10m is full resolution)\n",
    "OUTPUT_SPACING_METRES = 10\n",
    "\n",
    "# Display information about the mosaic\n",
    "gdal.Info(f'/vsicurl/{SIGNED_URL}', format='json')"
   ]
  },
  {
   "cell_type": "code",
   "execution_count": null,
   "id": "697542f2",
   "metadata": {},
   "outputs": [],
   "source": [
    "print(f\"Current time is:       {datetime.utcnow().strftime('%Y-%m-%d %H:%M:%S')} UTC\")\n",
    "try:\n",
    "    # Signature Version 2 has expiry date included\n",
    "    print(f\"Signed URL expires at: {datetime.utcfromtimestamp(int(parse_qs(urlparse(SIGNED_URL).query)['Expires'][0]))} UTC\") \n",
    "except: \n",
    "    # Signature Version 4 has creation date + expiry time included\n",
    "    print(f\"Signed URL expires at: {datetime.strptime(parse_qs(urlparse(SIGNED_URL).query)['X-Amz-Date'][0], '%Y%m%dT%H%M%SZ') + timedelta(seconds=int(parse_qs(urlparse(SIGNED_URL).query)['X-Amz-Expires'][0]))} UTC\") "
   ]
  },
  {
   "cell_type": "markdown",
   "id": "96fa5758",
   "metadata": {},
   "source": [
    "# Retrieve Mosaic Data Over AOI\n",
    "To select a rectangular AOI: \n",
    "- Navigate within the map to your desired area within Western US\n",
    "- Click the black square (third button from the top)\n",
    "- Click and drag to select your desired AOI\n",
    "- Run the next cell to retrieve your selected AOI as latitude/longitude corners\n",
    "\n",
    "**Note: Start with a small AOI, as the entire mosaic is very large at full resolution! For example, all 4 bands of the City of Vancouver at full resolution is about 85MB.**"
   ]
  },
  {
   "cell_type": "code",
   "execution_count": 4,
   "id": "72f727f6",
   "metadata": {},
   "outputs": [
    {
     "data": {
      "application/vnd.jupyter.widget-view+json": {
       "model_id": "e46b1b8ccb0949a682e9d5f1768aafd2",
       "version_major": 2,
       "version_minor": 0
      },
      "text/plain": [
       "Map(center=[41.3, -123.12], controls=(ZoomControl(options=['position', 'zoom_in_text', 'zoom_in_title', 'zoom_…"
      ]
     },
     "metadata": {},
     "output_type": "display_data"
    }
   ],
   "source": [
    "# Select AOI within Western US\n",
    "preview_map = plotting_utils.PreviewMap()\n",
    "preview_map.get_map(center=[41.30, -123.12], \n",
    "                    zoom=4, \n",
    "                    polygon_for_footprint=plotting_utils.MAP_BOUNDS\n",
    ")"
   ]
  },
  {
   "cell_type": "code",
   "execution_count": null,
   "id": "f0a07217",
   "metadata": {},
   "outputs": [],
   "source": [
    "geo_aoi = preview_map.get_selected_lat_lon_corners()\n",
    "print(f'Selected AOI: {geo_aoi}')"
   ]
  },
  {
   "cell_type": "code",
   "execution_count": null,
   "id": "03acf0d3",
   "metadata": {},
   "outputs": [],
   "source": [
    "# Download all bands into a file, resampled to UTM projection. The mosaic has bands: BLUE, GREEN, RED, NIR\n",
    "# If this fails, double-check that your signed URL has not expired, and try obtaining a new one\n",
    "\n",
    "# The source is a Cloud-Optimized Geotiff, so GDAL will automatically choose the most appropriate subsampled \n",
    "# overview level for the specified output spacing and only read the regions specified by the selected AOI. \n",
    "ds = gdal.Warp(OUT_PATH, gdal.Open(f'/vsicurl/{SIGNED_URL}'),\n",
    "               outputBounds=[geo_aoi['ul_lng'], geo_aoi['lr_lat'], geo_aoi['lr_lng'], geo_aoi['ul_lat']],\n",
    "               outputBoundsSRS='EPSG:4326',\n",
    "               dstSRS=preview_map.get_selected_utm_epsg(),\n",
    "               xRes=OUTPUT_SPACING_METRES,\n",
    "               yRes=OUTPUT_SPACING_METRES,\n",
    "               resampleAlg='cubic')               \n",
    "ds = None\n",
    "gdal.Info(OUT_PATH, format='json')"
   ]
  },
  {
   "cell_type": "code",
   "execution_count": null,
   "id": "899b0885",
   "metadata": {},
   "outputs": [],
   "source": [
    "# Read in and display the downloaded imagery\n",
    "# Plot bands RED, GREEN, BLUE\n",
    "plotting_utils.plot_data(OUT_PATH, ['RED', 'GREEN', 'BLUE'], show_bands=[3, 2, 1])"
   ]
  },
  {
   "cell_type": "markdown",
   "id": "751117ca",
   "metadata": {},
   "source": [
    "# Simple NDVI Calculation Example"
   ]
  },
  {
   "cell_type": "code",
   "execution_count": null,
   "id": "659c82f9",
   "metadata": {},
   "outputs": [],
   "source": [
    "from matplotlib import cm\n",
    "import matplotlib.pyplot as plt\n",
    "from rasterio.plot import show_hist, show\n",
    "\n",
    "color_map = 'RdYlGn'\n",
    "\n",
    "# Read in RED and NIR band data. Band order is BGRN\n",
    "ds = gdal.Open(OUT_PATH, gdal.GA_ReadOnly)\n",
    "red = ds.GetRasterBand(3).ReadAsArray().astype('float')\n",
    "nir = ds.GetRasterBand(4).ReadAsArray().astype('float')\n",
    "\n",
    "# Calculate NDVI\n",
    "ndvi = (nir - red)/(nir + red)\n",
    "\n",
    "# Plot NDVI and histogram\n",
    "fig, (ax_ndvi, ax_hist) = plt.subplots(1, 2, figsize=(20,10))\n",
    "show(ndvi, ax=ax_ndvi, title='NDVI Heatmap', cmap=color_map)\n",
    "fig.colorbar(cm.ScalarMappable(cmap=color_map), ax=ax_ndvi)\n",
    "show_hist(ndvi, bins=100, ax=ax_hist)\n",
    "plt.show()"
   ]
  },
  {
   "cell_type": "code",
   "execution_count": null,
   "id": "92fbfaaf",
   "metadata": {},
   "outputs": [],
   "source": []
  }
 ],
 "metadata": {
  "kernelspec": {
   "display_name": "Python 3 (ipykernel)",
   "language": "python",
   "name": "python3"
  },
  "language_info": {
   "codemirror_mode": {
    "name": "ipython",
    "version": 3
   },
   "file_extension": ".py",
   "mimetype": "text/x-python",
   "name": "python",
   "nbconvert_exporter": "python",
   "pygments_lexer": "ipython3",
   "version": "3.9.7"
  }
 },
 "nbformat": 4,
 "nbformat_minor": 5
}
